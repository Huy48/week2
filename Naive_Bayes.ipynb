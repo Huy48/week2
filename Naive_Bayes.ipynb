{
 "cells": [
  {
   "cell_type": "markdown",
   "id": "534317fc-8171-4d04-8578-2e72a1044c17",
   "metadata": {},
   "source": [
    "Câu 1: Phân phối Bernoulli và Multinomial"
   ]
  },
  {
   "cell_type": "markdown",
   "id": "76d3781c-fd56-42a9-b2b7-9999364c2892",
   "metadata": {},
   "source": [
    "Cho tập dữ liệu Education.csv [https://drive.google.com/file/d/1Gn6YWHXRuPbTUXY5HFxM5C_tJHuZxCka/view?usp=sharing]\n",
    "- Trong đó:\n",
    "    - Text: Chứa đoạn văn bản liên quan đến chủ đề giáo dục.\n",
    "    - Label: Chứa nhãn cảm xúc của văn bản [Tích cực (Positive)/Tiêu cực (Negative)].\n",
    "- Yêu cầu: Áp dụng thuật toán Naive Bayes (phân phối bernoulli và phân phối Multinomial) để dự đoán cảm xúc của văn bản là tích cực hay tiêu cực và so sánh kết quả của hai phân phối đó."
   ]
  },
  {
   "cell_type": "markdown",
   "id": "2ddba7d5-909f-4def-9a45-60bf83f7741c",
   "metadata": {},
   "source": [
    "Câu 2: Phân phối Gaussian"
   ]
  },
  {
   "cell_type": "markdown",
   "id": "acdf8be6-a117-4c6f-9035-4edc4190f185",
   "metadata": {},
   "source": [
    "Cho tập dữ liệu Drug.csv [https://drive.google.com/file/d/1_G8oXkLlsauQkujZzJZJwibAWu5PgBXK/view?usp=sharing]\n",
    "- Trong đó:\n",
    "  - Age: Tuổi của bệnh nhân\n",
    "  - Sex: Giới tính của bệnh nhân\n",
    "  - BP: Mức huyết áp\n",
    "  - Cholesterol: Mức cholesterol trong máu\n",
    "  - Na_to_K: Tỷ lệ Natri và Kali trong máu\n",
    "  - Drug: Loại thuốc [A/B/C/X/Y]\n",
    "- Yêu cầu: Áp dụng thuật toán Naive Bayes (phân phối Gaussian) để dự đoán kết quả loại thuốc phù hợp với bệnh nhân."
   ]
  },
  {
   "cell_type": "code",
   "execution_count": 2,
   "id": "3bd8ce91-9d07-4213-aabb-c4696f3fd50d",
   "metadata": {},
   "outputs": [
    {
     "name": "stdout",
     "output_type": "stream",
     "text": [
      "Độ chính xác (Multinomial): 0.6363636363636364\n",
      "              precision    recall  f1-score   support\n",
      "\n",
      "           0       0.50      1.00      0.67         4\n",
      "           1       1.00      0.43      0.60         7\n",
      "\n",
      "    accuracy                           0.64        11\n",
      "   macro avg       0.75      0.71      0.63        11\n",
      "weighted avg       0.82      0.64      0.62        11\n",
      "\n",
      "Độ chính xác (Bernoulli): 0.5454545454545454\n",
      "              precision    recall  f1-score   support\n",
      "\n",
      "           0       0.44      1.00      0.62         4\n",
      "           1       1.00      0.29      0.44         7\n",
      "\n",
      "    accuracy                           0.55        11\n",
      "   macro avg       0.72      0.64      0.53        11\n",
      "weighted avg       0.80      0.55      0.51        11\n",
      "\n"
     ]
    }
   ],
   "source": [
    "#Bài 1\n",
    "\n",
    "\n",
    "import pandas as pd\n",
    "\n",
    "\n",
    "from sklearn.model_selection import train_test_split\n",
    "from sklearn.feature_extraction.text import TfidfVectorizer\n",
    "from sklearn.preprocessing import LabelEncoder\n",
    "from sklearn.naive_bayes import MultinomialNB\n",
    "from sklearn.naive_bayes import BernoulliNB\n",
    "from sklearn.metrics import accuracy_score, classification_report\n",
    "\n",
    "\n",
    "df = pd.read_csv('C:\\\\Users\\\\My Laptop\\\\Desktop\\\\học máy và ứng dụng(TH)\\\\lab2\\\\Education.csv')\n",
    "\n",
    "# print(df.head())\n",
    "\n",
    "label_encoder = LabelEncoder()\n",
    "df['Label'] = label_encoder.fit_transform(df['Label'])\n",
    "\n",
    "X_train, X_test, y_train, y_test = train_test_split(df['Text'], df['Label'], test_size=0.2, random_state=42)\n",
    "\n",
    "vectorizer = TfidfVectorizer(stop_words='english')\n",
    "X_train_vectorized = vectorizer.fit_transform(X_train)\n",
    "X_test_vectorized = vectorizer.transform(X_test)\n",
    "\n",
    "model_multinomial = MultinomialNB()\n",
    "\n",
    "model_multinomial.fit(X_train_vectorized, y_train)\n",
    "\n",
    "y_pred_multinomial = model_multinomial.predict(X_test_vectorized)\n",
    "\n",
    "accuracy = accuracy_score(y_test, y_pred_multinomial)\n",
    "print(f\"Độ chính xác (Multinomial): {accuracy}\")\n",
    "print(classification_report(y_test, y_pred_multinomial))\n",
    "\n",
    "model_bernoulli = BernoulliNB()\n",
    "model_bernoulli.fit(X_train_vectorized, y_train)\n",
    "ypb = model_bernoulli.predict(X_test_vectorized)\n",
    "\n",
    "\n",
    "accuracy_bernoulli = accuracy_score(y_test, ypb)\n",
    "print(f\"Độ chính xác (Bernoulli): {accuracy_bernoulli}\")\n",
    "print(classification_report(y_test, ypb))\n"
   ]
  },
  {
   "cell_type": "code",
   "execution_count": 5,
   "id": "b4a848e0",
   "metadata": {},
   "outputs": [
    {
     "name": "stdout",
     "output_type": "stream",
     "text": [
      "Accuracy: 92.50%\n",
      "              precision    recall  f1-score   support\n",
      "\n",
      "       DrugY       1.00      0.80      0.89        15\n",
      "       drugA       0.86      1.00      0.92         6\n",
      "       drugB       0.75      1.00      0.86         3\n",
      "       drugC       0.83      1.00      0.91         5\n",
      "       drugX       1.00      1.00      1.00        11\n",
      "\n",
      "    accuracy                           0.93        40\n",
      "   macro avg       0.89      0.96      0.92        40\n",
      "weighted avg       0.94      0.93      0.92        40\n",
      "\n"
     ]
    }
   ],
   "source": [
    "import pandas as pd\n",
    "\n",
    "\n",
    "from sklearn.preprocessing import LabelEncoder\n",
    "from sklearn.model_selection import train_test_split\n",
    "from sklearn.naive_bayes import GaussianNB\n",
    "from sklearn.metrics import accuracy_score, classification_report\n",
    "\n",
    "df = pd.read_csv('C:\\\\Users\\\\My Laptop\\\\Desktop\\\\học máy và ứng dụng(TH)\\\\lab2\\\\drug.csv')\n",
    "\n",
    "# print(df.info())\n",
    "# print(df.head())\n",
    "\n",
    "\n",
    "\n",
    "label_encoder_sex = LabelEncoder()\n",
    "df['Sex'] = label_encoder_sex.fit_transform(df['Sex'])\n",
    "\n",
    "label_encoder_BP = LabelEncoder()\n",
    "df['BP'] = label_encoder_BP.fit_transform(df['BP'])\n",
    "\n",
    "label_encoder_chol = LabelEncoder()\n",
    "df['Cholesterol'] = label_encoder_chol.fit_transform(df['Cholesterol'])\n",
    "\n",
    "# print(df.head())\n",
    "\n",
    "\n",
    "\n",
    "X = df[['Age', 'Sex', 'BP', 'Cholesterol', 'Na_to_K']]\n",
    "\n",
    "y = df['Drug']\n",
    "\n",
    "X_train, X_test, y_train, y_test = train_test_split(X, y, test_size=0.2, random_state=42)\n",
    "\n",
    "model = GaussianNB()\n",
    "\n",
    "model.fit(X_train, y_train)\n",
    "\n",
    "y_pred = model.predict(X_test)\n",
    "\n",
    "accuracy = accuracy_score(y_test, y_pred)\n",
    "print(f'Accuracy: {accuracy*100:.2f}%')\n",
    "print(classification_report(y_test, y_pred))\n",
    "\n"
   ]
  },
  {
   "cell_type": "code",
   "execution_count": null,
   "id": "2105ee06-30d0-45e7-a703-3535ea6fd195",
   "metadata": {},
   "outputs": [],
   "source": []
  },
  {
   "cell_type": "markdown",
   "id": "24034aa2-86b2-488b-8746-cf43222c99bc",
   "metadata": {},
   "source": []
  },
  {
   "cell_type": "code",
   "execution_count": null,
   "id": "69d5fc8b-7f0b-48bd-9d34-664942841b77",
   "metadata": {},
   "outputs": [],
   "source": []
  }
 ],
 "metadata": {
  "kernelspec": {
   "display_name": "Python 3 (ipykernel)",
   "language": "python",
   "name": "python3"
  },
  "language_info": {
   "codemirror_mode": {
    "name": "ipython",
    "version": 3
   },
   "file_extension": ".py",
   "mimetype": "text/x-python",
   "name": "python",
   "nbconvert_exporter": "python",
   "pygments_lexer": "ipython3",
   "version": "3.10.11"
  }
 },
 "nbformat": 4,
 "nbformat_minor": 5
}
